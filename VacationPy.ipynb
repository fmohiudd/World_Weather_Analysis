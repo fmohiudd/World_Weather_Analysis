{
 "cells": [
  {
   "cell_type": "code",
   "execution_count": 1,
   "id": "02f64dcf",
   "metadata": {},
   "outputs": [],
   "source": [
    "# Import the dependencies. \n",
    "import pandas as pd\n",
    "import gmaps\n",
    "import requests\n",
    "# Import the API key.\n",
    "from config import g_key"
   ]
  },
  {
   "cell_type": "markdown",
   "id": "f928f3a7",
   "metadata": {},
   "source": [
    "### Read the csv file to get the list of cities"
   ]
  },
  {
   "cell_type": "code",
   "execution_count": 2,
   "id": "87599d48",
   "metadata": {},
   "outputs": [
    {
     "data": {
      "text/html": [
       "<div>\n",
       "<style scoped>\n",
       "    .dataframe tbody tr th:only-of-type {\n",
       "        vertical-align: middle;\n",
       "    }\n",
       "\n",
       "    .dataframe tbody tr th {\n",
       "        vertical-align: top;\n",
       "    }\n",
       "\n",
       "    .dataframe thead th {\n",
       "        text-align: right;\n",
       "    }\n",
       "</style>\n",
       "<table border=\"1\" class=\"dataframe\">\n",
       "  <thead>\n",
       "    <tr style=\"text-align: right;\">\n",
       "      <th></th>\n",
       "      <th>City_ID</th>\n",
       "      <th>City</th>\n",
       "      <th>Country</th>\n",
       "      <th>Date</th>\n",
       "      <th>Lat</th>\n",
       "      <th>Lng</th>\n",
       "      <th>Max Temp</th>\n",
       "      <th>Humidity</th>\n",
       "      <th>Cloudiness</th>\n",
       "      <th>Wind Speed</th>\n",
       "    </tr>\n",
       "  </thead>\n",
       "  <tbody>\n",
       "    <tr>\n",
       "      <th>0</th>\n",
       "      <td>0</td>\n",
       "      <td>Ushuaia</td>\n",
       "      <td>AR</td>\n",
       "      <td>2021-08-06 17:35:S</td>\n",
       "      <td>-54.8000</td>\n",
       "      <td>-68.3000</td>\n",
       "      <td>35.26</td>\n",
       "      <td>93</td>\n",
       "      <td>40</td>\n",
       "      <td>24.16</td>\n",
       "    </tr>\n",
       "    <tr>\n",
       "      <th>1</th>\n",
       "      <td>1</td>\n",
       "      <td>Chuy</td>\n",
       "      <td>UY</td>\n",
       "      <td>2021-08-06 17:38:S</td>\n",
       "      <td>-33.6971</td>\n",
       "      <td>-53.4616</td>\n",
       "      <td>65.61</td>\n",
       "      <td>73</td>\n",
       "      <td>85</td>\n",
       "      <td>8.16</td>\n",
       "    </tr>\n",
       "    <tr>\n",
       "      <th>2</th>\n",
       "      <td>2</td>\n",
       "      <td>Eidsvag</td>\n",
       "      <td>NO</td>\n",
       "      <td>2021-08-06 17:38:S</td>\n",
       "      <td>62.7767</td>\n",
       "      <td>8.0668</td>\n",
       "      <td>75.25</td>\n",
       "      <td>59</td>\n",
       "      <td>64</td>\n",
       "      <td>1.32</td>\n",
       "    </tr>\n",
       "    <tr>\n",
       "      <th>3</th>\n",
       "      <td>3</td>\n",
       "      <td>Sao Cristovao</td>\n",
       "      <td>BR</td>\n",
       "      <td>2021-08-06 17:38:S</td>\n",
       "      <td>-11.0147</td>\n",
       "      <td>-37.2064</td>\n",
       "      <td>82.31</td>\n",
       "      <td>65</td>\n",
       "      <td>40</td>\n",
       "      <td>17.27</td>\n",
       "    </tr>\n",
       "    <tr>\n",
       "      <th>4</th>\n",
       "      <td>4</td>\n",
       "      <td>Westport</td>\n",
       "      <td>US</td>\n",
       "      <td>2021-08-06 17:38:S</td>\n",
       "      <td>41.1415</td>\n",
       "      <td>-73.3579</td>\n",
       "      <td>91.08</td>\n",
       "      <td>52</td>\n",
       "      <td>1</td>\n",
       "      <td>1.01</td>\n",
       "    </tr>\n",
       "  </tbody>\n",
       "</table>\n",
       "</div>"
      ],
      "text/plain": [
       "   City_ID           City Country                Date      Lat      Lng  \\\n",
       "0        0        Ushuaia      AR  2021-08-06 17:35:S -54.8000 -68.3000   \n",
       "1        1           Chuy      UY  2021-08-06 17:38:S -33.6971 -53.4616   \n",
       "2        2        Eidsvag      NO  2021-08-06 17:38:S  62.7767   8.0668   \n",
       "3        3  Sao Cristovao      BR  2021-08-06 17:38:S -11.0147 -37.2064   \n",
       "4        4       Westport      US  2021-08-06 17:38:S  41.1415 -73.3579   \n",
       "\n",
       "   Max Temp  Humidity  Cloudiness  Wind Speed  \n",
       "0     35.26        93          40       24.16  \n",
       "1     65.61        73          85        8.16  \n",
       "2     75.25        59          64        1.32  \n",
       "3     82.31        65          40       17.27  \n",
       "4     91.08        52           1        1.01  "
      ]
     },
     "execution_count": 2,
     "metadata": {},
     "output_type": "execute_result"
    }
   ],
   "source": [
    "# Store the csv saved in the part one into a DataFrame.\n",
    "city_data_df = pd.read_csv(\"weather_data/cities.csv\")\n",
    "city_data_df.head()"
   ]
  },
  {
   "cell_type": "code",
   "execution_count": 3,
   "id": "b1e1ff39",
   "metadata": {},
   "outputs": [
    {
     "data": {
      "text/plain": [
       "City_ID         int64\n",
       "City           object\n",
       "Country        object\n",
       "Date           object\n",
       "Lat           float64\n",
       "Lng           float64\n",
       "Max Temp      float64\n",
       "Humidity        int64\n",
       "Cloudiness      int64\n",
       "Wind Speed    float64\n",
       "dtype: object"
      ]
     },
     "execution_count": 3,
     "metadata": {},
     "output_type": "execute_result"
    }
   ],
   "source": [
    "# Get the data type. NOTE: THE MAPPYING MUST BE EITHER AN INTEGER OR FLOATING POINT.\n",
    "city_data_df.dtypes"
   ]
  },
  {
   "cell_type": "code",
   "execution_count": 4,
   "id": "b7a4fc3f",
   "metadata": {},
   "outputs": [],
   "source": [
    "# Configure gmaps to use my API key. NOTE ONLY NEED TO CONFIGURE GMAPS TO USE API KEY ONCE.\n",
    "gmaps.configure(api_key=g_key)"
   ]
  },
  {
   "cell_type": "markdown",
   "id": "3acdf112",
   "metadata": {},
   "source": [
    "#### 1. Assign the locations to an array of latitude and logitude pairs. \n",
    "#### NOTE THIS IS THE GENRAL  SYNTAX"
   ]
  },
  {
   "cell_type": "code",
   "execution_count": 7,
   "id": "6b2044ec",
   "metadata": {},
   "outputs": [],
   "source": [
    "# # 1. Assign the locations to an array of latitude andlongitude pairs.\n",
    "# locations = [latitude, longitude]\n",
    "\n",
    "# # 2. Assign the weights variable to some values. \n",
    "# temperatures = [max_temp] # an array of length equal to the locations array length\n",
    "\n",
    "# # 3. Assign the figure variable to the gmaps.figure() attribute. \n",
    "# fig = gmaps.figure()\n",
    "\n",
    "# # 4. Assign the heatmap_layer variable to the heatmap_layer attribute and add in th elocations. \n",
    "# heatmap_layer = gmaps.heatmap_layer(locations, weights = temperatures)\n",
    "\n",
    "# # 5. Add the heatmap layer.\n",
    "# fig.add_layer(heatmap_layer)\n",
    "\n",
    "# # 6. Call the figure to plot the data.\n",
    "# fig"
   ]
  },
  {
   "cell_type": "code",
   "execution_count": null,
   "id": "361cc412",
   "metadata": {},
   "outputs": [],
   "source": [
    "#### Renove negative temperature since Google heatmaps do not plot neg. number. \n",
    "### To avoid a negative number error, we can add the following codes"
   ]
  },
  {
   "cell_type": "code",
   "execution_count": 19,
   "id": "481598f7",
   "metadata": {},
   "outputs": [],
   "source": [
    "# Get the maximum temperature. \n",
    "max_temp = city_data_df[\"Max Temp\"]\n",
    "#temps = []\n",
    "# for temp in max_temp:\n",
    "#     temps.append(max(temp, 0))\n",
    "\n",
    "# REPLACE THE ABOVE for LOOP WITH LIST COMPREHENSION\n",
    "#[max(temp,0) for temp in max_temp]"
   ]
  },
  {
   "cell_type": "code",
   "execution_count": 20,
   "id": "5956df4f",
   "metadata": {},
   "outputs": [
    {
     "data": {
      "application/vnd.jupyter.widget-view+json": {
       "model_id": "9f30e78514a94c2688f43c6b135074fe",
       "version_major": 2,
       "version_minor": 0
      },
      "text/plain": [
       "Figure(layout=FigureLayout(height='420px'))"
      ]
     },
     "metadata": {},
     "output_type": "display_data"
    }
   ],
   "source": [
    "# Heatmap of temperature\n",
    "# Get the latitude and longitude.\n",
    "locations = city_data_df[[\"Lat\", \"Lng\"]]\n",
    "\n",
    "# Get the maximum temperature. \n",
    "max_temp = city_data_df[\"Max Temp\"]\n",
    "\n",
    "# Assign the figure variable.\n",
    "fig = gmaps.figure()\n",
    "\n",
    "# Assign the heatmap variable.\n",
    "## heat_layer = gmaps.heatmap_layer(locations, weights = max_temp) # includes all the temp, neg.& pos.\n",
    "heat_layer = gmaps.heatmap_layer(locations, weights = [max(temp,0) for temp in max_temp]) # Removed the neg. temp\n",
    "\n",
    "# Add the heatmap layer. \n",
    "fig.add_layer(heat_layer)\n",
    "\n",
    "# Call the figure to plot the data.\n",
    "fig"
   ]
  },
  {
   "cell_type": "markdown",
   "id": "5bc299fe",
   "metadata": {},
   "source": [
    "### Adjust Heatmap Zoon, Intensity, and Point Radius, rather than whole world.\n",
    "### This if for 30.0 deg North and 31.0 deg East"
   ]
  },
  {
   "cell_type": "code",
   "execution_count": 29,
   "id": "1f2980e7",
   "metadata": {
    "scrolled": false
   },
   "outputs": [
    {
     "data": {
      "application/vnd.jupyter.widget-view+json": {
       "model_id": "9eef5d3b7aca410c816d509d31896714",
       "version_major": 2,
       "version_minor": 0
      },
      "text/plain": [
       "Figure(layout=FigureLayout(height='420px'))"
      ]
     },
     "metadata": {},
     "output_type": "display_data"
    }
   ],
   "source": [
    "fig = gmaps.figure(center = (30.0, 31.0), zoom_level = 1.5)\n",
    "\n",
    "heat_layer = gmaps.heatmap_layer(locations, weights = [max(temp,0) for temp in max_temp]) # Removed the neg. temp\n",
    "\n",
    "# Add the heatmap layer. \n",
    "fig.add_layer(heat_layer)\n",
    "\n",
    "fig"
   ]
  },
  {
   "cell_type": "code",
   "execution_count": 46,
   "id": "7f4e2871",
   "metadata": {
    "scrolled": true
   },
   "outputs": [
    {
     "data": {
      "application/vnd.jupyter.widget-view+json": {
       "model_id": "6d02323661d44556a739fc895e81406b",
       "version_major": 2,
       "version_minor": 0
      },
      "text/plain": [
       "Figure(layout=FigureLayout(height='420px'))"
      ]
     },
     "metadata": {},
     "output_type": "display_data"
    }
   ],
   "source": [
    "# Zoom in some part of US and add the \"max intensity\" to make each measurement radius larger.\n",
    "\n",
    "fig = gmaps.figure(center = (30.0, 31.0), zoom_level = 1.5)\n",
    "\n",
    "heat_layer = gmaps.heatmap_layer(locations, weights = temps, dissipating = False,\n",
    "                max_intensity = 300, point_radius = 4)\n",
    "\n",
    "fig.add_layer(heat_layer)\n",
    "\n",
    "fig"
   ]
  },
  {
   "cell_type": "markdown",
   "id": "955ed81a",
   "metadata": {},
   "source": [
    "### Create Percent Himidity Heatmap"
   ]
  },
  {
   "cell_type": "code",
   "execution_count": 47,
   "id": "f74f50c1",
   "metadata": {},
   "outputs": [
    {
     "data": {
      "application/vnd.jupyter.widget-view+json": {
       "model_id": "24a6b0a2bff140319021c008bfcd5597",
       "version_major": 2,
       "version_minor": 0
      },
      "text/plain": [
       "Figure(layout=FigureLayout(height='420px'))"
      ]
     },
     "metadata": {},
     "output_type": "display_data"
    }
   ],
   "source": [
    "# Heatmap of percent humidity\n",
    "locations = city_data_df[[\"Lat\", \"Lng\"]]\n",
    "humidity = city_data_df[\"Humidity\"]\n",
    "\n",
    "fig = gmaps.figure(center = (30.0, 31.0), zoom_level = 1.5)\n",
    "heat_layer = gmaps.heatmap_layer(locations, weights = humidity,\n",
    "                    dissipating = False, max_intensity = 300, point_radius = 4)\n",
    "\n",
    "fig.add_layer(heat_layer)\n",
    "# Call the figure to plot the data.\n",
    "fig"
   ]
  },
  {
   "cell_type": "markdown",
   "id": "30dc2e12",
   "metadata": {},
   "source": [
    "### Create Percent Cloudiness Heatmap"
   ]
  },
  {
   "cell_type": "code",
   "execution_count": 50,
   "id": "d231ec89",
   "metadata": {},
   "outputs": [
    {
     "data": {
      "application/vnd.jupyter.widget-view+json": {
       "model_id": "b38d4c25f0c244ac99d587d8f3b6de00",
       "version_major": 2,
       "version_minor": 0
      },
      "text/plain": [
       "Figure(layout=FigureLayout(height='420px'))"
      ]
     },
     "metadata": {},
     "output_type": "display_data"
    }
   ],
   "source": [
    "# Heatmap of percent cloudiness.\n",
    "locations = city_data_df[[\"Lat\", \"Lng\"]]\n",
    "clouds = city_data_df[\"Cloudiness\"]\n",
    "\n",
    "fig = gmaps.figure(center = (30.0, 31.0), zoom_level = 1.5)\n",
    "heat_layer = gmaps.heatmap_layer(locations, weights = clouds, dissipating = False, \n",
    "                                max_intensity = 300, point_radius =4)\n",
    "\n",
    "fig.add_layer(heat_layer)\n",
    "\n",
    "# Call the fgure to plot the data. \n",
    "fig"
   ]
  },
  {
   "cell_type": "code",
   "execution_count": null,
   "id": "63c7f307",
   "metadata": {},
   "outputs": [],
   "source": [
    "### CReate the WIND SPEED Map"
   ]
  },
  {
   "cell_type": "code",
   "execution_count": 53,
   "id": "b6a5f521",
   "metadata": {},
   "outputs": [
    {
     "data": {
      "application/vnd.jupyter.widget-view+json": {
       "model_id": "7867832227e44d639bbbfb6bded9f037",
       "version_major": 2,
       "version_minor": 0
      },
      "text/plain": [
       "Figure(layout=FigureLayout(height='420px'))"
      ]
     },
     "metadata": {},
     "output_type": "display_data"
    }
   ],
   "source": [
    "# Wend speed map. \n",
    "locations = city_data_df[[\"Lat\", \"Lng\"]]\n",
    "wind_speed = city_data_df[\"Wind Speed\"]\n",
    "\n",
    "fig = gmaps.figure(center =(30.0, 31.0), zoom_level = 1.5)\n",
    "heat_layer = gmaps.heatmap_layer(locations, wind_speed, dissipating = False, \n",
    "                max_intensity =300, point_radius = 4)\n",
    "\n",
    "fig.add_layer(heat_layer)\n",
    "\n",
    "# Call the figure to plot the data.\n",
    "fig"
   ]
  },
  {
   "cell_type": "markdown",
   "id": "6c83a673",
   "metadata": {},
   "source": [
    "### Ask Customers their input. Convert the input to a floating number."
   ]
  },
  {
   "cell_type": "code",
   "execution_count": 54,
   "id": "f84c9a6a",
   "metadata": {},
   "outputs": [
    {
     "name": "stdout",
     "output_type": "stream",
     "text": [
      "What is the minimum temperature you would like for your trip? 75\n",
      "What is the maximum temperature you would like for your trip? 90\n"
     ]
    }
   ],
   "source": [
    "# Ask the customer add a minumum and maximum temperature value.\n",
    "min_temp = float(input(\"What is the minimum temperature you would like for your trip? \"))\n",
    "max_temp = float(input(\"What is the maximum temperature you would like for your trip? \"))"
   ]
  },
  {
   "cell_type": "markdown",
   "id": "f045e207",
   "metadata": {},
   "source": [
    "### Filter the data to match the search criteria"
   ]
  },
  {
   "cell_type": "code",
   "execution_count": 59,
   "id": "0d1bfc9b",
   "metadata": {},
   "outputs": [
    {
     "data": {
      "text/html": [
       "<div>\n",
       "<style scoped>\n",
       "    .dataframe tbody tr th:only-of-type {\n",
       "        vertical-align: middle;\n",
       "    }\n",
       "\n",
       "    .dataframe tbody tr th {\n",
       "        vertical-align: top;\n",
       "    }\n",
       "\n",
       "    .dataframe thead th {\n",
       "        text-align: right;\n",
       "    }\n",
       "</style>\n",
       "<table border=\"1\" class=\"dataframe\">\n",
       "  <thead>\n",
       "    <tr style=\"text-align: right;\">\n",
       "      <th></th>\n",
       "      <th>City_ID</th>\n",
       "      <th>City</th>\n",
       "      <th>Country</th>\n",
       "      <th>Date</th>\n",
       "      <th>Lat</th>\n",
       "      <th>Lng</th>\n",
       "      <th>Max Temp</th>\n",
       "      <th>Humidity</th>\n",
       "      <th>Cloudiness</th>\n",
       "      <th>Wind Speed</th>\n",
       "    </tr>\n",
       "  </thead>\n",
       "  <tbody>\n",
       "    <tr>\n",
       "      <th>2</th>\n",
       "      <td>2</td>\n",
       "      <td>Eidsvag</td>\n",
       "      <td>NO</td>\n",
       "      <td>2021-08-06 17:38:S</td>\n",
       "      <td>62.7767</td>\n",
       "      <td>8.0668</td>\n",
       "      <td>75.25</td>\n",
       "      <td>59</td>\n",
       "      <td>64</td>\n",
       "      <td>1.32</td>\n",
       "    </tr>\n",
       "    <tr>\n",
       "      <th>3</th>\n",
       "      <td>3</td>\n",
       "      <td>Sao Cristovao</td>\n",
       "      <td>BR</td>\n",
       "      <td>2021-08-06 17:38:S</td>\n",
       "      <td>-11.0147</td>\n",
       "      <td>-37.2064</td>\n",
       "      <td>82.31</td>\n",
       "      <td>65</td>\n",
       "      <td>40</td>\n",
       "      <td>17.27</td>\n",
       "    </tr>\n",
       "    <tr>\n",
       "      <th>5</th>\n",
       "      <td>5</td>\n",
       "      <td>Torbay</td>\n",
       "      <td>CA</td>\n",
       "      <td>2021-08-06 17:38:S</td>\n",
       "      <td>47.6666</td>\n",
       "      <td>-52.7314</td>\n",
       "      <td>81.37</td>\n",
       "      <td>77</td>\n",
       "      <td>40</td>\n",
       "      <td>25.32</td>\n",
       "    </tr>\n",
       "    <tr>\n",
       "      <th>7</th>\n",
       "      <td>7</td>\n",
       "      <td>Padang</td>\n",
       "      <td>ID</td>\n",
       "      <td>2021-08-06 17:38:S</td>\n",
       "      <td>-0.9492</td>\n",
       "      <td>100.3543</td>\n",
       "      <td>78.42</td>\n",
       "      <td>82</td>\n",
       "      <td>95</td>\n",
       "      <td>3.40</td>\n",
       "    </tr>\n",
       "    <tr>\n",
       "      <th>8</th>\n",
       "      <td>8</td>\n",
       "      <td>Gizo</td>\n",
       "      <td>SB</td>\n",
       "      <td>2021-08-06 17:38:S</td>\n",
       "      <td>-8.1030</td>\n",
       "      <td>156.8419</td>\n",
       "      <td>81.01</td>\n",
       "      <td>72</td>\n",
       "      <td>98</td>\n",
       "      <td>16.58</td>\n",
       "    </tr>\n",
       "    <tr>\n",
       "      <th>14</th>\n",
       "      <td>14</td>\n",
       "      <td>Kahului</td>\n",
       "      <td>US</td>\n",
       "      <td>2021-08-06 17:38:S</td>\n",
       "      <td>20.8947</td>\n",
       "      <td>-156.4700</td>\n",
       "      <td>79.84</td>\n",
       "      <td>90</td>\n",
       "      <td>20</td>\n",
       "      <td>16.11</td>\n",
       "    </tr>\n",
       "    <tr>\n",
       "      <th>20</th>\n",
       "      <td>20</td>\n",
       "      <td>Batavia</td>\n",
       "      <td>US</td>\n",
       "      <td>2021-08-06 17:36:S</td>\n",
       "      <td>41.8500</td>\n",
       "      <td>-88.3126</td>\n",
       "      <td>82.42</td>\n",
       "      <td>71</td>\n",
       "      <td>40</td>\n",
       "      <td>1.99</td>\n",
       "    </tr>\n",
       "    <tr>\n",
       "      <th>21</th>\n",
       "      <td>21</td>\n",
       "      <td>Jamestown</td>\n",
       "      <td>US</td>\n",
       "      <td>2021-08-06 17:38:S</td>\n",
       "      <td>42.0970</td>\n",
       "      <td>-79.2353</td>\n",
       "      <td>85.17</td>\n",
       "      <td>55</td>\n",
       "      <td>75</td>\n",
       "      <td>7.00</td>\n",
       "    </tr>\n",
       "    <tr>\n",
       "      <th>25</th>\n",
       "      <td>25</td>\n",
       "      <td>Boljevac</td>\n",
       "      <td>RS</td>\n",
       "      <td>2021-08-06 17:38:S</td>\n",
       "      <td>43.8303</td>\n",
       "      <td>21.9531</td>\n",
       "      <td>78.06</td>\n",
       "      <td>47</td>\n",
       "      <td>27</td>\n",
       "      <td>2.21</td>\n",
       "    </tr>\n",
       "    <tr>\n",
       "      <th>26</th>\n",
       "      <td>26</td>\n",
       "      <td>Chenzhou</td>\n",
       "      <td>CN</td>\n",
       "      <td>2021-08-06 17:38:S</td>\n",
       "      <td>25.8000</td>\n",
       "      <td>113.0333</td>\n",
       "      <td>77.25</td>\n",
       "      <td>96</td>\n",
       "      <td>83</td>\n",
       "      <td>2.24</td>\n",
       "    </tr>\n",
       "  </tbody>\n",
       "</table>\n",
       "</div>"
      ],
      "text/plain": [
       "    City_ID           City Country                Date      Lat       Lng  \\\n",
       "2         2        Eidsvag      NO  2021-08-06 17:38:S  62.7767    8.0668   \n",
       "3         3  Sao Cristovao      BR  2021-08-06 17:38:S -11.0147  -37.2064   \n",
       "5         5         Torbay      CA  2021-08-06 17:38:S  47.6666  -52.7314   \n",
       "7         7         Padang      ID  2021-08-06 17:38:S  -0.9492  100.3543   \n",
       "8         8           Gizo      SB  2021-08-06 17:38:S  -8.1030  156.8419   \n",
       "14       14        Kahului      US  2021-08-06 17:38:S  20.8947 -156.4700   \n",
       "20       20        Batavia      US  2021-08-06 17:36:S  41.8500  -88.3126   \n",
       "21       21      Jamestown      US  2021-08-06 17:38:S  42.0970  -79.2353   \n",
       "25       25       Boljevac      RS  2021-08-06 17:38:S  43.8303   21.9531   \n",
       "26       26       Chenzhou      CN  2021-08-06 17:38:S  25.8000  113.0333   \n",
       "\n",
       "    Max Temp  Humidity  Cloudiness  Wind Speed  \n",
       "2      75.25        59          64        1.32  \n",
       "3      82.31        65          40       17.27  \n",
       "5      81.37        77          40       25.32  \n",
       "7      78.42        82          95        3.40  \n",
       "8      81.01        72          98       16.58  \n",
       "14     79.84        90          20       16.11  \n",
       "20     82.42        71          40        1.99  \n",
       "21     85.17        55          75        7.00  \n",
       "25     78.06        47          27        2.21  \n",
       "26     77.25        96          83        2.24  "
      ]
     },
     "execution_count": 59,
     "metadata": {},
     "output_type": "execute_result"
    }
   ],
   "source": [
    "# Filter the dataset to find the cities that fit the criteria. \n",
    "preferred_cities_df = city_data_df.loc[(city_data_df[\"Max Temp\"] <= max_temp) & \\\n",
    "                                      (city_data_df[\"Max Temp\"] >= min_temp)]\n",
    "\n",
    "preferred_cities_df.head(10)"
   ]
  },
  {
   "cell_type": "code",
   "execution_count": 60,
   "id": "3faa04fe",
   "metadata": {},
   "outputs": [
    {
     "data": {
      "text/plain": [
       "City_ID       205\n",
       "City          205\n",
       "Country       205\n",
       "Date          205\n",
       "Lat           205\n",
       "Lng           205\n",
       "Max Temp      205\n",
       "Humidity      205\n",
       "Cloudiness    205\n",
       "Wind Speed    205\n",
       "dtype: int64"
      ]
     },
     "execution_count": 60,
     "metadata": {},
     "output_type": "execute_result"
    }
   ],
   "source": [
    "preferred_cities_df.count()"
   ]
  },
  {
   "cell_type": "markdown",
   "id": "7886c902",
   "metadata": {},
   "source": [
    "### CREATE A NEW DATAFRAME FRO PREFERRED_CITY_DF TO STORE CUSTOMER INFO AND ADD\n",
    "### HOTEL INFORMATION."
   ]
  },
  {
   "cell_type": "code",
   "execution_count": 61,
   "id": "a3fd2f45",
   "metadata": {},
   "outputs": [
    {
     "data": {
      "text/html": [
       "<div>\n",
       "<style scoped>\n",
       "    .dataframe tbody tr th:only-of-type {\n",
       "        vertical-align: middle;\n",
       "    }\n",
       "\n",
       "    .dataframe tbody tr th {\n",
       "        vertical-align: top;\n",
       "    }\n",
       "\n",
       "    .dataframe thead th {\n",
       "        text-align: right;\n",
       "    }\n",
       "</style>\n",
       "<table border=\"1\" class=\"dataframe\">\n",
       "  <thead>\n",
       "    <tr style=\"text-align: right;\">\n",
       "      <th></th>\n",
       "      <th>City</th>\n",
       "      <th>Country</th>\n",
       "      <th>Max Temp</th>\n",
       "      <th>Lat</th>\n",
       "      <th>Lng</th>\n",
       "      <th>Hotel Name</th>\n",
       "    </tr>\n",
       "  </thead>\n",
       "  <tbody>\n",
       "    <tr>\n",
       "      <th>2</th>\n",
       "      <td>Eidsvag</td>\n",
       "      <td>NO</td>\n",
       "      <td>75.25</td>\n",
       "      <td>62.7767</td>\n",
       "      <td>8.0668</td>\n",
       "      <td></td>\n",
       "    </tr>\n",
       "    <tr>\n",
       "      <th>3</th>\n",
       "      <td>Sao Cristovao</td>\n",
       "      <td>BR</td>\n",
       "      <td>82.31</td>\n",
       "      <td>-11.0147</td>\n",
       "      <td>-37.2064</td>\n",
       "      <td></td>\n",
       "    </tr>\n",
       "    <tr>\n",
       "      <th>5</th>\n",
       "      <td>Torbay</td>\n",
       "      <td>CA</td>\n",
       "      <td>81.37</td>\n",
       "      <td>47.6666</td>\n",
       "      <td>-52.7314</td>\n",
       "      <td></td>\n",
       "    </tr>\n",
       "    <tr>\n",
       "      <th>7</th>\n",
       "      <td>Padang</td>\n",
       "      <td>ID</td>\n",
       "      <td>78.42</td>\n",
       "      <td>-0.9492</td>\n",
       "      <td>100.3543</td>\n",
       "      <td></td>\n",
       "    </tr>\n",
       "    <tr>\n",
       "      <th>8</th>\n",
       "      <td>Gizo</td>\n",
       "      <td>SB</td>\n",
       "      <td>81.01</td>\n",
       "      <td>-8.1030</td>\n",
       "      <td>156.8419</td>\n",
       "      <td></td>\n",
       "    </tr>\n",
       "    <tr>\n",
       "      <th>14</th>\n",
       "      <td>Kahului</td>\n",
       "      <td>US</td>\n",
       "      <td>79.84</td>\n",
       "      <td>20.8947</td>\n",
       "      <td>-156.4700</td>\n",
       "      <td></td>\n",
       "    </tr>\n",
       "    <tr>\n",
       "      <th>20</th>\n",
       "      <td>Batavia</td>\n",
       "      <td>US</td>\n",
       "      <td>82.42</td>\n",
       "      <td>41.8500</td>\n",
       "      <td>-88.3126</td>\n",
       "      <td></td>\n",
       "    </tr>\n",
       "    <tr>\n",
       "      <th>21</th>\n",
       "      <td>Jamestown</td>\n",
       "      <td>US</td>\n",
       "      <td>85.17</td>\n",
       "      <td>42.0970</td>\n",
       "      <td>-79.2353</td>\n",
       "      <td></td>\n",
       "    </tr>\n",
       "    <tr>\n",
       "      <th>25</th>\n",
       "      <td>Boljevac</td>\n",
       "      <td>RS</td>\n",
       "      <td>78.06</td>\n",
       "      <td>43.8303</td>\n",
       "      <td>21.9531</td>\n",
       "      <td></td>\n",
       "    </tr>\n",
       "    <tr>\n",
       "      <th>26</th>\n",
       "      <td>Chenzhou</td>\n",
       "      <td>CN</td>\n",
       "      <td>77.25</td>\n",
       "      <td>25.8000</td>\n",
       "      <td>113.0333</td>\n",
       "      <td></td>\n",
       "    </tr>\n",
       "  </tbody>\n",
       "</table>\n",
       "</div>"
      ],
      "text/plain": [
       "             City Country  Max Temp      Lat       Lng Hotel Name\n",
       "2         Eidsvag      NO     75.25  62.7767    8.0668           \n",
       "3   Sao Cristovao      BR     82.31 -11.0147  -37.2064           \n",
       "5          Torbay      CA     81.37  47.6666  -52.7314           \n",
       "7          Padang      ID     78.42  -0.9492  100.3543           \n",
       "8            Gizo      SB     81.01  -8.1030  156.8419           \n",
       "14        Kahului      US     79.84  20.8947 -156.4700           \n",
       "20        Batavia      US     82.42  41.8500  -88.3126           \n",
       "21      Jamestown      US     85.17  42.0970  -79.2353           \n",
       "25       Boljevac      RS     78.06  43.8303   21.9531           \n",
       "26       Chenzhou      CN     77.25  25.8000  113.0333           "
      ]
     },
     "execution_count": 61,
     "metadata": {},
     "output_type": "execute_result"
    }
   ],
   "source": [
    "# Create DataFrame called hotel_df to store hotel names along with city, \n",
    "# country, max temp, and coordinates. \n",
    "hotel_df = preferred_cities_df[[\"City\", \"Country\", \"Max Temp\", \"Lat\", \"Lng\"]].copy()\n",
    "hotel_df[\"Hotel Name\"] = \"\"\n",
    "hotel_df.head(10)"
   ]
  },
  {
   "cell_type": "markdown",
   "id": "91dda3a4",
   "metadata": {},
   "source": [
    "### Get the hotel inoformatoin. BE CAREFUL: I MAY BE CHARGED FOR USING NEARBY."
   ]
  },
  {
   "cell_type": "code",
   "execution_count": 64,
   "id": "bccf4fc7",
   "metadata": {},
   "outputs": [
    {
     "name": "stdout",
     "output_type": "stream",
     "text": [
      "Hotel not found....skipping\n"
     ]
    }
   ],
   "source": [
    "# Set parameters to search for a hotel. \n",
    "params = {\n",
    "    \"radius\": 5000,\n",
    "    \"type\": \"Lodging\",\n",
    "    \"key\": g_key \n",
    "}\n",
    "\n",
    "# Iterate through the DataFrame.\n",
    "for index, row in hotel_df.iterrows():\n",
    "    # Get the latitude and logitude.\n",
    "    lat = row[\"Lat\"]\n",
    "    lng = row[\"Lng\"]\n",
    "    \n",
    "    # Add the latitude and longitude to location key for the params dictionary.\n",
    "    params[\"location\"] = f\"{lat}, {lng}\"\n",
    "    \n",
    "    # Use the search term: \"lodging\" and our latitude and logitude.\n",
    "    base_url = \"https://maps.googleapis.com/maps/api/place/nearbysearch/json\"\n",
    "    \n",
    "    # Make request and get the JSON data from the search.\n",
    "    hotels = requests.get(base_url, params = params).json()\n",
    "    \n",
    "    # Grab the first hotel from the results and store the name. \n",
    "    try:\n",
    "        hotel_df.loc[index, \"Hotel Name\"] = hotels[\"results\"][0][\"name\"]\n",
    "    except (IndexError):\n",
    "        print(\"Hotel not found....skipping\")\n",
    "        "
   ]
  },
  {
   "cell_type": "code",
   "execution_count": 67,
   "id": "1639e638",
   "metadata": {},
   "outputs": [
    {
     "data": {
      "text/html": [
       "<div>\n",
       "<style scoped>\n",
       "    .dataframe tbody tr th:only-of-type {\n",
       "        vertical-align: middle;\n",
       "    }\n",
       "\n",
       "    .dataframe tbody tr th {\n",
       "        vertical-align: top;\n",
       "    }\n",
       "\n",
       "    .dataframe thead th {\n",
       "        text-align: right;\n",
       "    }\n",
       "</style>\n",
       "<table border=\"1\" class=\"dataframe\">\n",
       "  <thead>\n",
       "    <tr style=\"text-align: right;\">\n",
       "      <th></th>\n",
       "      <th>City</th>\n",
       "      <th>Country</th>\n",
       "      <th>Max Temp</th>\n",
       "      <th>Lat</th>\n",
       "      <th>Lng</th>\n",
       "      <th>Hotel Name</th>\n",
       "    </tr>\n",
       "  </thead>\n",
       "  <tbody>\n",
       "    <tr>\n",
       "      <th>2</th>\n",
       "      <td>Eidsvag</td>\n",
       "      <td>NO</td>\n",
       "      <td>75.25</td>\n",
       "      <td>62.7767</td>\n",
       "      <td>8.0668</td>\n",
       "      <td>Eidsvåg</td>\n",
       "    </tr>\n",
       "    <tr>\n",
       "      <th>3</th>\n",
       "      <td>Sao Cristovao</td>\n",
       "      <td>BR</td>\n",
       "      <td>82.31</td>\n",
       "      <td>-11.0147</td>\n",
       "      <td>-37.2064</td>\n",
       "      <td>São Cristóvão</td>\n",
       "    </tr>\n",
       "    <tr>\n",
       "      <th>5</th>\n",
       "      <td>Torbay</td>\n",
       "      <td>CA</td>\n",
       "      <td>81.37</td>\n",
       "      <td>47.6666</td>\n",
       "      <td>-52.7314</td>\n",
       "      <td>St. John's</td>\n",
       "    </tr>\n",
       "    <tr>\n",
       "      <th>7</th>\n",
       "      <td>Padang</td>\n",
       "      <td>ID</td>\n",
       "      <td>78.42</td>\n",
       "      <td>-0.9492</td>\n",
       "      <td>100.3543</td>\n",
       "      <td>Padang</td>\n",
       "    </tr>\n",
       "    <tr>\n",
       "      <th>8</th>\n",
       "      <td>Gizo</td>\n",
       "      <td>SB</td>\n",
       "      <td>81.01</td>\n",
       "      <td>-8.1030</td>\n",
       "      <td>156.8419</td>\n",
       "      <td>Gizo</td>\n",
       "    </tr>\n",
       "    <tr>\n",
       "      <th>14</th>\n",
       "      <td>Kahului</td>\n",
       "      <td>US</td>\n",
       "      <td>79.84</td>\n",
       "      <td>20.8947</td>\n",
       "      <td>-156.4700</td>\n",
       "      <td>Kahului</td>\n",
       "    </tr>\n",
       "    <tr>\n",
       "      <th>20</th>\n",
       "      <td>Batavia</td>\n",
       "      <td>US</td>\n",
       "      <td>82.42</td>\n",
       "      <td>41.8500</td>\n",
       "      <td>-88.3126</td>\n",
       "      <td>Aurora</td>\n",
       "    </tr>\n",
       "    <tr>\n",
       "      <th>21</th>\n",
       "      <td>Jamestown</td>\n",
       "      <td>US</td>\n",
       "      <td>85.17</td>\n",
       "      <td>42.0970</td>\n",
       "      <td>-79.2353</td>\n",
       "      <td>Jamestown</td>\n",
       "    </tr>\n",
       "    <tr>\n",
       "      <th>25</th>\n",
       "      <td>Boljevac</td>\n",
       "      <td>RS</td>\n",
       "      <td>78.06</td>\n",
       "      <td>43.8303</td>\n",
       "      <td>21.9531</td>\n",
       "      <td>Boljevac</td>\n",
       "    </tr>\n",
       "    <tr>\n",
       "      <th>26</th>\n",
       "      <td>Chenzhou</td>\n",
       "      <td>CN</td>\n",
       "      <td>77.25</td>\n",
       "      <td>25.8000</td>\n",
       "      <td>113.0333</td>\n",
       "      <td>Chenzhou</td>\n",
       "    </tr>\n",
       "  </tbody>\n",
       "</table>\n",
       "</div>"
      ],
      "text/plain": [
       "             City Country  Max Temp      Lat       Lng     Hotel Name\n",
       "2         Eidsvag      NO     75.25  62.7767    8.0668        Eidsvåg\n",
       "3   Sao Cristovao      BR     82.31 -11.0147  -37.2064  São Cristóvão\n",
       "5          Torbay      CA     81.37  47.6666  -52.7314     St. John's\n",
       "7          Padang      ID     78.42  -0.9492  100.3543         Padang\n",
       "8            Gizo      SB     81.01  -8.1030  156.8419           Gizo\n",
       "14        Kahului      US     79.84  20.8947 -156.4700        Kahului\n",
       "20        Batavia      US     82.42  41.8500  -88.3126         Aurora\n",
       "21      Jamestown      US     85.17  42.0970  -79.2353      Jamestown\n",
       "25       Boljevac      RS     78.06  43.8303   21.9531       Boljevac\n",
       "26       Chenzhou      CN     77.25  25.8000  113.0333       Chenzhou"
      ]
     },
     "execution_count": 67,
     "metadata": {},
     "output_type": "execute_result"
    }
   ],
   "source": [
    "hotel_df.head(10)"
   ]
  },
  {
   "cell_type": "markdown",
   "id": "6301a46a",
   "metadata": {},
   "source": [
    "### Create a Max. Temp Heatmap from a Hotel DataFrame and Add Markers"
   ]
  },
  {
   "cell_type": "code",
   "execution_count": 69,
   "id": "41e349c6",
   "metadata": {},
   "outputs": [
    {
     "data": {
      "application/vnd.jupyter.widget-view+json": {
       "model_id": "",
       "version_major": 2,
       "version_minor": 0
      },
      "text/plain": [
       "Figure(layout=FigureLayout(height='420px'))"
      ]
     },
     "metadata": {},
     "output_type": "display_data"
    }
   ],
   "source": [
    "# Add a hearmap of temperature for the vacation spots and a pop-up marker for each city.\n",
    "locations = hotel_df[[\"Lat\", \"Lng\"]]\n",
    "max_temp = hotel_df[\"Max Temp\"]\n",
    "fig = gmaps.figure(center=(30.0, 31.0), zoom_level = 1.5)\n",
    "heat_layer = gmaps.heatmap_layer(locations, weights = max_temp, \n",
    "            dissipating = False, max_intensity = 300, point_radius = 4)\n",
    "\n",
    "# Add markers\n",
    "marker_layer = gmaps.marker_layer(locations)\n",
    "\n",
    "fig.add_layer(heat_layer)\n",
    "fig.add_layer(marker_layer)\n",
    "# Call the figure to plot the data\n",
    "fig"
   ]
  },
  {
   "cell_type": "markdown",
   "id": "5fc162a9",
   "metadata": {},
   "source": [
    "### Add pop-up marker for each city that displays the hotel name, city name, country name & max. temp."
   ]
  },
  {
   "cell_type": "code",
   "execution_count": 72,
   "id": "21af1c91",
   "metadata": {},
   "outputs": [],
   "source": [
    "info_box_template = \"\"\"\n",
    "<dl>\n",
    "<dt>Hotel Name</dt><dd>{Hotel Name}</dd>\n",
    "<dt>City</dt><dd>{City}</dd>\n",
    "<dt>Country</dt><dd>{Country}</dd>\n",
    "<dt>Max Temp</dt><dd>{Max Temp} °F</dd>\n",
    "</dl>\n",
    "\"\"\"\n",
    "\n",
    "# Store the DataFrame Row.\n",
    "hotel_info = [info_box_template.format(**row) for index, row in hotel_df.iterrows()]"
   ]
  },
  {
   "cell_type": "code",
   "execution_count": 73,
   "id": "91f7413e",
   "metadata": {},
   "outputs": [
    {
     "data": {
      "application/vnd.jupyter.widget-view+json": {
       "model_id": "9f3e57715225437b94765c164f478c0a",
       "version_major": 2,
       "version_minor": 0
      },
      "text/plain": [
       "Figure(layout=FigureLayout(height='420px'))"
      ]
     },
     "metadata": {},
     "output_type": "display_data"
    }
   ],
   "source": [
    "# Add a hearmap of temperature for the vacation spots and a pop-up marker for each city.\n",
    "locations = hotel_df[[\"Lat\", \"Lng\"]]\n",
    "max_temp = hotel_df[\"Max Temp\"]\n",
    "fig = gmaps.figure(center=(30.0, 31.0), zoom_level = 1.5)\n",
    "heat_layer = gmaps.heatmap_layer(locations, weights = max_temp, \n",
    "            dissipating = False, max_intensity = 300, point_radius = 4)\n",
    "\n",
    "# Add markers\n",
    "marker_layer = gmaps.marker_layer(locations, info_box_content = hotel_info)\n",
    "\n",
    "fig.add_layer(heat_layer)\n",
    "fig.add_layer(marker_layer)\n",
    "# Call the figure to plot the data\n",
    "fig"
   ]
  }
 ],
 "metadata": {
  "kernelspec": {
   "display_name": "PythonData",
   "language": "python",
   "name": "pythondata"
  },
  "language_info": {
   "codemirror_mode": {
    "name": "ipython",
    "version": 3
   },
   "file_extension": ".py",
   "mimetype": "text/x-python",
   "name": "python",
   "nbconvert_exporter": "python",
   "pygments_lexer": "ipython3",
   "version": "3.7.10"
  }
 },
 "nbformat": 4,
 "nbformat_minor": 5
}
