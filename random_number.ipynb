{
 "cells": [
  {
   "cell_type": "code",
   "execution_count": 1,
   "id": "8b030e0f",
   "metadata": {},
   "outputs": [],
   "source": [
    "# Import random number\n",
    "import random"
   ]
  },
  {
   "cell_type": "code",
   "execution_count": 2,
   "id": "adc04ba4",
   "metadata": {},
   "outputs": [
    {
     "data": {
      "text/plain": [
       "57"
      ]
     },
     "execution_count": 2,
     "metadata": {},
     "output_type": "execute_result"
    }
   ],
   "source": [
    "random.randint(-90, 90)"
   ]
  },
  {
   "cell_type": "code",
   "execution_count": 3,
   "id": "3eb31613",
   "metadata": {},
   "outputs": [
    {
     "data": {
      "text/plain": [
       "0.48467086292356154"
      ]
     },
     "execution_count": 3,
     "metadata": {},
     "output_type": "execute_result"
    }
   ],
   "source": [
    "random.random()"
   ]
  },
  {
   "cell_type": "code",
   "execution_count": 4,
   "id": "a5fff628",
   "metadata": {},
   "outputs": [
    {
     "data": {
      "text/plain": [
       "-66.34781806497725"
      ]
     },
     "execution_count": 4,
     "metadata": {},
     "output_type": "execute_result"
    }
   ],
   "source": [
    "# Generate random numbers between -89.99999 to 89.99999. \n",
    "random_number = random.randint(-90, 89) + random.random()\n",
    "random_number"
   ]
  },
  {
   "cell_type": "code",
   "execution_count": 5,
   "id": "9fc5b27c",
   "metadata": {},
   "outputs": [
    {
     "data": {
      "text/plain": [
       "[-58.19285619977034,\n",
       " 14.646540232124796,\n",
       " 37.525632769275894,\n",
       " -18.666372805817296,\n",
       " 57.65430009054198,\n",
       " 39.26730965188524,\n",
       " -43.03378630266481,\n",
       " -2.3671997593959238,\n",
       " -34.482432286106835,\n",
       " -66.20567277332566]"
      ]
     },
     "execution_count": 5,
     "metadata": {},
     "output_type": "execute_result"
    }
   ],
   "source": [
    "# Generate ten random floating latitutdes between -90 and 89. \n",
    "\n",
    "x = 1\n",
    "latitudes = []\n",
    "while x < 11:\n",
    "    random_lat = random.randint(-90, 89) + random.random()\n",
    "    latitudes.append(random_lat)\n",
    "    x += 1\n",
    "latitudes"
   ]
  },
  {
   "cell_type": "code",
   "execution_count": 6,
   "id": "78cf6657",
   "metadata": {},
   "outputs": [
    {
     "data": {
      "text/plain": [
       "83"
      ]
     },
     "execution_count": 6,
     "metadata": {},
     "output_type": "execute_result"
    }
   ],
   "source": [
    "# Use the randrange() function to generate random numbers. \n",
    "random.randrange(-90, 90, step = 1)"
   ]
  },
  {
   "cell_type": "code",
   "execution_count": 7,
   "id": "b8439b3f",
   "metadata": {},
   "outputs": [
    {
     "data": {
      "text/plain": [
       "6"
      ]
     },
     "execution_count": 7,
     "metadata": {},
     "output_type": "execute_result"
    }
   ],
   "source": [
    "random.randrange(-90, 90, step = 3)"
   ]
  },
  {
   "cell_type": "code",
   "execution_count": 8,
   "id": "4891a58f",
   "metadata": {},
   "outputs": [
    {
     "data": {
      "text/plain": [
       "-8.593580367945792"
      ]
     },
     "execution_count": 8,
     "metadata": {},
     "output_type": "execute_result"
    }
   ],
   "source": [
    "# Generate random numbers with floating points too. \n",
    "random.randrange(-90, 90, step=1) + random.random()"
   ]
  },
  {
   "cell_type": "code",
   "execution_count": 9,
   "id": "e5a2545f",
   "metadata": {},
   "outputs": [
    {
     "data": {
      "text/plain": [
       "78.64200968700328"
      ]
     },
     "execution_count": 9,
     "metadata": {},
     "output_type": "execute_result"
    }
   ],
   "source": [
    "# Use uniform() function\n",
    "random.uniform(-90, 90)"
   ]
  },
  {
   "cell_type": "code",
   "execution_count": 10,
   "id": "51af955d",
   "metadata": {},
   "outputs": [],
   "source": [
    "# Import the numpy to generate a random number array for lattitude = -90 to +90,\n",
    "# longitude -180 deg to +180 deg\n",
    "import numpy as np"
   ]
  },
  {
   "cell_type": "code",
   "execution_count": 11,
   "id": "1714972d",
   "metadata": {},
   "outputs": [
    {
     "data": {
      "text/plain": [
       "-44.5051162507501"
      ]
     },
     "execution_count": 11,
     "metadata": {},
     "output_type": "execute_result"
    }
   ],
   "source": [
    "np.random.uniform(-90.000, 90.000)"
   ]
  },
  {
   "cell_type": "code",
   "execution_count": 12,
   "id": "ee8019ae",
   "metadata": {},
   "outputs": [
    {
     "data": {
      "text/plain": [
       "array([-43.6086884 ,  47.7470891 , -88.06530714,  -9.58976064,\n",
       "         3.32992077,  30.44445002,  24.43006809, -60.0374894 ,\n",
       "        71.91538344,  49.42036808,  -4.04935758,  89.3010444 ,\n",
       "        78.55107375, -24.9285047 ,  12.12792229, -18.05269106,\n",
       "        73.85461267,  72.73923533,  17.06639447, -72.00431886,\n",
       "        78.74246584,  33.57733994,  27.77762079,  44.69543804,\n",
       "        68.02460812,  43.08547372,  61.30988162,  89.74744686,\n",
       "       -24.74968717, -78.5060065 ,  69.14996871,  42.20542439,\n",
       "       -76.49037722,  71.72690328, -27.05999655,  42.44026416,\n",
       "        31.76464045,  36.73199819, -36.15574585, -22.66261692,\n",
       "        68.01099299, -58.07205839,  76.67357863, -43.12117361,\n",
       "       -40.06234522,  15.85109492,  -6.90530585, -69.12731472,\n",
       "       -41.87116533,  59.57469681])"
      ]
     },
     "execution_count": 12,
     "metadata": {},
     "output_type": "execute_result"
    }
   ],
   "source": [
    "np.random.uniform(-90.000, 90.000, size = 50)"
   ]
  },
  {
   "cell_type": "code",
   "execution_count": 13,
   "id": "5f48c4a3",
   "metadata": {},
   "outputs": [],
   "source": [
    "# Import timeit to test how long it takes to generate 1,500 random number. Also use magic command %timeit\n",
    "import timeit"
   ]
  },
  {
   "cell_type": "code",
   "execution_count": 14,
   "id": "b699ea0c",
   "metadata": {},
   "outputs": [
    {
     "name": "stdout",
     "output_type": "stream",
     "text": [
      "14.2 µs ± 430 ns per loop (mean ± std. dev. of 7 runs, 100000 loops each)\n"
     ]
    }
   ],
   "source": [
    "%timeit np.random.uniform(-90.000, 90.000, size = 1500)"
   ]
  },
  {
   "cell_type": "code",
   "execution_count": 15,
   "id": "f924cfc4",
   "metadata": {},
   "outputs": [
    {
     "name": "stdout",
     "output_type": "stream",
     "text": [
      "2.3 ms ± 203 µs per loop (mean ± std. dev. of 7 runs, 100 loops each)\n"
     ]
    }
   ],
   "source": [
    "def latitudes(size):\n",
    "    latitudes = []\n",
    "    x = 0\n",
    "    while x < (size):\n",
    "        random_lat = random.randint(-90, 90) + random.random()\n",
    "        latitudes.append(random_lat)\n",
    "        x +=1\n",
    "    return latitudes\n",
    "# Call the function with 1500. \n",
    "%timeit latitudes(1500)"
   ]
  },
  {
   "cell_type": "code",
   "execution_count": 31,
   "id": "012b8f09",
   "metadata": {},
   "outputs": [
    {
     "name": "stdout",
     "output_type": "stream",
     "text": [
      "23.5 ns ± 2.48 ns per loop (mean ± std. dev. of 7 runs, 10000000 loops each)\n"
     ]
    }
   ],
   "source": [
    "# Write a for loop for 1500 latitudes <-- Farida guess. Could be wrong\n",
    "\n",
    "latitude = [-90, 90]\n",
    "for rand_lat in latitude:\n",
    "    rand_lat = np.random.uniform(-90, 90, size = 1500)\n",
    "\n",
    "%timeit rand_lat\n"
   ]
  },
  {
   "cell_type": "code",
   "execution_count": 17,
   "id": "9c6d02d5",
   "metadata": {},
   "outputs": [],
   "source": [
    "# SKILL DRILL: find the time it takes to generate 1500 longitude, -180 to +180 degerees\n",
    "#%timeit np.random.uniform(-180, 180, size =1500)"
   ]
  }
 ],
 "metadata": {
  "kernelspec": {
   "display_name": "PythonData",
   "language": "python",
   "name": "pythondata"
  },
  "language_info": {
   "codemirror_mode": {
    "name": "ipython",
    "version": 3
   },
   "file_extension": ".py",
   "mimetype": "text/x-python",
   "name": "python",
   "nbconvert_exporter": "python",
   "pygments_lexer": "ipython3",
   "version": "3.7.10"
  }
 },
 "nbformat": 4,
 "nbformat_minor": 5
}
